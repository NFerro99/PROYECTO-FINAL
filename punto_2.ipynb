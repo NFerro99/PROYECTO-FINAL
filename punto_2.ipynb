{
 "cells": [
  {
   "cell_type": "code",
   "execution_count": 1,
   "id": "2321d879",
   "metadata": {},
   "outputs": [],
   "source": [
    "#==================================================#==================================================#==================================================#======================================\n",
    "\n",
    "#2)Costos en función de: Weight_kg|Distance_miles|Transit_Days\n",
    "\n",
    "\n",
    "import pandas as pd\n",
    "import numpy as np\n",
    "import matplotlib.pyplot as plt\n",
    "import seaborn as sns\n",
    "from sklearn.model_selection import train_test_split\n",
    "from sklearn.linear_model import LinearRegression\n",
    "from sklearn.metrics import mean_squared_error, r2_score\n"
   ]
  },
  {
   "cell_type": "code",
   "execution_count": 2,
   "id": "593088b7",
   "metadata": {},
   "outputs": [
    {
     "name": "stdout",
     "output_type": "stream",
     "text": [
      "<class 'pandas.core.frame.DataFrame'>\n",
      "RangeIndex: 2000 entries, 0 to 1999\n",
      "Data columns (total 1 columns):\n",
      " #   Column                                                                                                                          Non-Null Count  Dtype \n",
      "---  ------                                                                                                                          --------------  ----- \n",
      " 0   Shipment_ID;Origin_Warehouse;Destination;Carrier;Shipment_Date;Delivery_Date;Weight_kg;Cost;Status;Distance_miles;Transit_Days  2000 non-null   object\n",
      "dtypes: object(1)\n",
      "memory usage: 15.8+ KB\n",
      "None\n",
      "Shipment_ID;Origin_Warehouse;Destination;Carrier;Shipment_Date;Delivery_Date;Weight_kg;Cost;Status;Distance_miles;Transit_Days    0\n",
      "dtype: int64\n"
     ]
    }
   ],
   "source": [
    "# Cargar datos\n",
    "df = pd.read_csv('logistics_shipments_dataset.csv')\n",
    "\n",
    "# Ver estructura\n",
    "print(df.info())\n",
    "print(df.isnull().sum())\n"
   ]
  },
  {
   "cell_type": "code",
   "execution_count": 3,
   "id": "3539e36b",
   "metadata": {},
   "outputs": [
    {
     "name": "stdout",
     "output_type": "stream",
     "text": [
      "👉 Columnas después de separar: ['Shipment_ID', 'Origin_Warehouse', 'Destination', 'Carrier', 'Shipment_Date', 'Delivery_Date', 'Weight_kg', 'Cost', 'Status', 'Distance_miles', 'Transit_Days']\n",
      "✅ Filas válidas: 1959\n"
     ]
    }
   ],
   "source": [
    "# Cargar dataset con separador correcto (;)\n",
    "df = pd.read_csv(\"logistics_shipments_dataset.csv\", sep=\";\")\n",
    "\n",
    "# Mostrar columnas para confirmar que ya están bien separadas\n",
    "print(\"👉 Columnas después de separar:\", df.columns.tolist())\n",
    "\n",
    "# Ahora sí podés usar dropna sin errores\n",
    "df = df.dropna(subset=['Cost', 'Weight_kg', 'Distance_miles', 'Transit_Days'])\n",
    "print(\"✅ Filas válidas:\", len(df))"
   ]
  },
  {
   "cell_type": "code",
   "execution_count": 4,
   "id": "4af982f7",
   "metadata": {},
   "outputs": [],
   "source": [
    "# Variables independientes y dependiente\n",
    "X1 = df[['Weight_kg', 'Distance_miles', 'Transit_Days']]\n",
    "y1 = df['Cost']\n",
    "\n",
    "# Dividir en train y test\n",
    "X1_train, X1_test, y1_train, y1_test = train_test_split(X1, y1, test_size=0.2, random_state=42)\n"
   ]
  },
  {
   "cell_type": "code",
   "execution_count": 5,
   "id": "173a8906",
   "metadata": {},
   "outputs": [
    {
     "name": "stdout",
     "output_type": "stream",
     "text": [
      "Modelo 1 - Predicción de Costo\n",
      "MSE: 101554.59\n",
      "R²: 0.09\n"
     ]
    }
   ],
   "source": [
    "# Entrenar modelo\n",
    "model1 = LinearRegression()\n",
    "model1.fit(X1_train, y1_train)\n",
    "\n",
    "# Predecir\n",
    "y1_pred = model1.predict(X1_test)\n",
    "\n",
    "# Métricas\n",
    "mse1 = mean_squared_error(y1_test, y1_pred)\n",
    "r2_1 = r2_score(y1_test, y1_pred)\n",
    "\n",
    "print(\"Modelo 1 - Predicción de Costo\")\n",
    "print(f\"MSE: {mse1:.2f}\")\n",
    "print(f\"R²: {r2_1:.2f}\")"
   ]
  },
  {
   "cell_type": "code",
   "execution_count": 6,
   "id": "b59d2bfa",
   "metadata": {},
   "outputs": [
    {
     "data": {
      "text/plain": [
       "Text(0.5, 1.0, 'Modelo 1: Costo')"
      ]
     },
     "execution_count": 6,
     "metadata": {},
     "output_type": "execute_result"
    },
    {
     "data": {
      "image/png": "[encoded data removed]",
      "text/plain": [
       "<Figure size 1000x400 with 1 Axes>"
      ]
     },
     "metadata": {},
     "output_type": "display_data"
    }
   ],
   "source": [
    "#Visualización de Resultados \n",
    "# Gráfico\n",
    "\n",
    "plt.figure(figsize=(10, 4))\n",
    "plt.subplot(1, 2, 1)\n",
    "sns.scatterplot(x=y1_test, y=y1_pred)\n",
    "plt.xlabel(\"Valores Reales\")\n",
    "plt.ylabel(\"Predicciones\")\n",
    "plt.title(\"Modelo 1: Costo\")"
   ]
  },
  {
   "cell_type": "code",
   "execution_count": 7,
   "id": "a5705765",
   "metadata": {},
   "outputs": [
    {
     "name": "stdout",
     "output_type": "stream",
     "text": [
      "Modelo 1 - Coeficientes:\n",
      "Intercepto: 26.55\n",
      "Weight_kg: 0.03\n",
      "Distance_miles: 0.14\n",
      "Transit_Days: 0.09\n"
     ]
    }
   ],
   "source": [
    "#Interpretación de Coeficientes\n",
    "\n",
    "coef1 = model1.coef_\n",
    "intercept1 = model1.intercept_\n",
    "print(\"Modelo 1 - Coeficientes:\")\n",
    "print(f\"Intercepto: {intercept1:.2f}\")\n",
    "for i, col in enumerate(X1.columns):\n",
    "    print(f\"{col}: {coef1[i]:.2f}\")\n",
    "\n",
    "#==================================\n",
    "\n",
    "#El diagrama de dispersión compara los valores reales de costo (eje X) con los valores predichos por el modelo (eje Y).\n",
    "#.Si el modelo fuera perfecto, todos los puntos se ubicarían sobre la diagonal (la línea y = x).\n",
    "#.Cuanto más cercanos estén los puntos a esa diagonal, mejor es la capacidad predictiva del modelo.\n",
    "#.Una dispersión amplia o puntos alejados indican errores de predicción en ciertos casos, lo cual puede estar relacionado con la variabilidad de los datos o la necesidad de ajustar el modelo.\n",
    "\n",
    "#-  Gráfico 2 – Costo en función de Weight_kg, Distance_miles y Transit_Days:   \n",
    "#  Se observa que el  peso  y la  distancia  tienen un impacto directo en el costo del envío: a mayor peso y distancia, mayor costo. Los outliers reflejan envíos con costos inusuales (por ejemplo, cargas livianas pero con costos altos o cargas pesadas con tarifas atípicamente bajas).\n"
   ]
  }
 ],
 "metadata": {
  "kernelspec": {
   "display_name": "Python 3",
   "language": "python",
   "name": "python3"
  },
  "language_info": {
   "codemirror_mode": {
    "name": "ipython",
    "version": 3
   },
   "file_extension": ".py",
   "mimetype": "text/x-python",
   "name": "python",
   "nbconvert_exporter": "python",
   "pygments_lexer": "ipython3",
   "version": "3.13.3"
  }
 },
 "nbformat": 4,
 "nbformat_minor": 5
}
