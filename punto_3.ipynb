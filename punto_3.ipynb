{
 "cells": [
  {
   "cell_type": "code",
   "execution_count": 1,
   "id": "517de97c",
   "metadata": {},
   "outputs": [],
   "source": [
    "#==================================================#==================================================#==================================================#======================================\n",
    "\n",
    "#3)Dividir el Costo en función de la importancia de cada una de las caracteristicas: Weight_kg|Distance_miles|Transit_Days\n",
    "\n",
    "import pandas as pd\n",
    "from sklearn.model_selection import train_test_split\n",
    "from sklearn.ensemble import RandomForestClassifier\n",
    "from sklearn.metrics import accuracy_score, classification_report\n",
    "import matplotlib.pyplot as plt\n"
   ]
  },
  {
   "cell_type": "code",
   "execution_count": 2,
   "id": "d97b3b8e",
   "metadata": {},
   "outputs": [
    {
     "name": "stdout",
     "output_type": "stream",
     "text": [
      "  Shipment_ID Origin_Warehouse    Destination Carrier Shipment_Date  \\\n",
      "0     SH10000    Warehouse_MIA  San Francisco     UPS     2/10/2023   \n",
      "1     SH10001    Warehouse_MIA        Atlanta     DHL     6/12/2023   \n",
      "2     SH10002     Warehouse_LA        Houston     DHL     18/9/2023   \n",
      "3     SH10003    Warehouse_BOS        Seattle  OnTrac     26/1/2023   \n",
      "4     SH10004     Warehouse_SF         Dallas  OnTrac      3/6/2023   \n",
      "\n",
      "  Delivery_Date  Weight_kg    Cost     Status  Distance_miles  Transit_Days  \n",
      "0     4/10/2023       25.7   67.46  Delivered             291             2  \n",
      "1     9/12/2023       38.9  268.85  Delivered            1225             3  \n",
      "2     20/9/2023       37.2   74.35  Delivered             220             2  \n",
      "3      4/2/2023       42.6  187.04  Delivered            1156             9  \n",
      "4      6/6/2023        7.9  120.01  Delivered            1017             3  \n",
      "Index(['Shipment_ID', 'Origin_Warehouse', 'Destination', 'Carrier',\n",
      "       'Shipment_Date', 'Delivery_Date', 'Weight_kg', 'Cost', 'Status',\n",
      "       'Distance_miles', 'Transit_Days'],\n",
      "      dtype='object')\n"
     ]
    }
   ],
   "source": [
    "# Cargar dataset\n",
    "import pandas as pd\n",
    "\n",
    "df = pd.read_csv(\"logistics_shipments_dataset.csv\", sep=\";\")\n",
    "print(df.head())   # para ver las primeras filas\n",
    "print(df.columns)  # para confirmar columnas\n"
   ]
  },
  {
   "cell_type": "code",
   "execution_count": 3,
   "id": "4afb005e",
   "metadata": {},
   "outputs": [
    {
     "name": "stdout",
     "output_type": "stream",
     "text": [
      "['Shipment_ID', 'Origin_Warehouse', 'Destination', 'Carrier', 'Shipment_Date', 'Delivery_Date', 'Weight_kg', 'Cost', 'Status', 'Distance_miles', 'Transit_Days']\n"
     ]
    }
   ],
   "source": [
    "# elimina espacios\n",
    "df.columns = df.columns.str.strip()   \n",
    "print(df.columns.tolist())"
   ]
  },
  {
   "cell_type": "code",
   "execution_count": 4,
   "id": "16bb74a1",
   "metadata": {},
   "outputs": [],
   "source": [
    "# 🔹 Preprocesamiento\n",
    "df = df.dropna(subset=[\"Cost\", \"Weight_kg\", \"Distance_miles\", \"Transit_Days\"])\n"
   ]
  },
  {
   "cell_type": "code",
   "execution_count": 5,
   "id": "fafce272",
   "metadata": {},
   "outputs": [],
   "source": [
    "# Crear variable objetivo: caro vs barato (usamos la mediana como corte)\n",
    "umbral = df[\"Cost\"].median()\n",
    "df[\"Clase_Costo\"] = df[\"Cost\"].apply(lambda x: \"Caro\" if x > umbral else \"Barato\")\n"
   ]
  },
  {
   "cell_type": "code",
   "execution_count": 6,
   "id": "08165828",
   "metadata": {},
   "outputs": [
    {
     "name": "stdout",
     "output_type": "stream",
     "text": [
      "Accuracy: 0.9260204081632653\n",
      "\n",
      "Reporte de Clasificación:\n",
      "               precision    recall  f1-score   support\n",
      "\n",
      "      Barato       0.93      0.92      0.93       199\n",
      "        Caro       0.92      0.93      0.93       193\n",
      "\n",
      "    accuracy                           0.93       392\n",
      "   macro avg       0.93      0.93      0.93       392\n",
      "weighted avg       0.93      0.93      0.93       392\n",
      "\n"
     ]
    }
   ],
   "source": [
    "# Features y target\n",
    "X = df[[\"Weight_kg\", \"Distance_miles\", \"Transit_Days\"]]\n",
    "y = df[\"Clase_Costo\"]\n",
    "\n",
    "# División en train y test\n",
    "X_train, X_test, y_train, y_test = train_test_split(X, y, test_size=0.2, random_state=42)\n",
    "\n",
    "# Modelo\n",
    "clf = RandomForestClassifier(random_state=42)\n",
    "clf.fit(X_train, y_train)\n",
    "\n",
    "# Predicciones\n",
    "y_pred = clf.predict(X_test)\n",
    "\n",
    "# Evaluación\n",
    "print(\"Accuracy:\", accuracy_score(y_test, y_pred))\n",
    "print(\"\\nReporte de Clasificación:\\n\", classification_report(y_test, y_pred))\n"
   ]
  },
  {
   "cell_type": "code",
   "execution_count": 7,
   "id": "255c84c8",
   "metadata": {},
   "outputs": [
    {
     "data": {
      "image/png": "[encoded data removed]",
      "text/plain": [
       "<Figure size 640x480 with 1 Axes>"
      ]
     },
     "metadata": {},
     "output_type": "display_data"
    }
   ],
   "source": [
    "from sklearn.ensemble import RandomForestClassifier\n",
    "from sklearn.model_selection import train_test_split\n",
    "import matplotlib.pyplot as plt\n",
    "import numpy as np\n",
    "\n",
    "# 🔹 Variables\n",
    "X = df[['Weight_kg', 'Distance_miles', 'Transit_Days']]\n",
    "y = (df['Cost'] > df['Cost'].median()).astype(int)\n",
    "\n",
    "# 🔹 Train/test\n",
    "X_train, X_test, y_train, y_test = train_test_split(X, y, test_size=0.2, random_state=42)\n",
    "\n",
    "# 🔹 Modelo\n",
    "clf = RandomForestClassifier(random_state=42)\n",
    "clf.fit(X_train, y_train)\n",
    "\n",
    "# 🔹 Importancia\n",
    "importancias = clf.feature_importances_\n",
    "features = X.columns\n",
    "indices = np.argsort(importancias)\n",
    "\n",
    "plt.barh([features[i] for i in indices], [importancias[i] for i in indices])\n",
    "plt.xlabel(\"Importancia\")\n",
    "plt.ylabel(\"Variable\")\n",
    "plt.title(\"Importancia de variables - Clasificación Caro/Barato\")\n",
    "plt.show()\n"
   ]
  },
  {
   "cell_type": "code",
   "execution_count": 8,
   "id": "85b0b676",
   "metadata": {},
   "outputs": [],
   "source": [
    "#El gráfico de importancia te deja explicar qué pesa más en el costo:\n",
    "#¿El peso del envío?\n",
    "#¿La distancia recorrida?\n",
    "#¿Los días de tránsito?\n",
    "\n",
    "#-  Gráfico 3 – Importancia de las características en la predicción del costo:   \n",
    "#  El análisis de importancia de variables muestra que  Weight_kg  y  Distance_miles  son los factores más influyentes en la estimación del costo, mientras que  Transit_Days  tiene un peso menor. Esto confirma que el costo depende más de la carga física y la distancia recorrida que del tiempo en tránsito.\n"
   ]
  }
 ],
 "metadata": {
  "kernelspec": {
   "display_name": "Python 3",
   "language": "python",
   "name": "python3"
  },
  "language_info": {
   "codemirror_mode": {
    "name": "ipython",
    "version": 3
   },
   "file_extension": ".py",
   "mimetype": "text/x-python",
   "name": "python",
   "nbconvert_exporter": "python",
   "pygments_lexer": "ipython3",
   "version": "3.13.3"
  }
 },
 "nbformat": 4,
 "nbformat_minor": 5
}
